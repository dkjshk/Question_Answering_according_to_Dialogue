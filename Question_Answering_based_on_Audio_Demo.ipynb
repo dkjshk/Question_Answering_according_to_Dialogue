{
  "nbformat": 4,
  "nbformat_minor": 0,
  "metadata": {
    "colab": {
      "provenance": [],
      "mount_file_id": "1IA5NVxsg0m7zUjHj1WoNOdChtNi9_fIN",
      "authorship_tag": "ABX9TyNuBbX9WvzViKAQt9S4XJvi",
      "include_colab_link": true
    },
    "kernelspec": {
      "name": "python3",
      "display_name": "Python 3"
    },
    "language_info": {
      "name": "python"
    }
  },
  "cells": [
    {
      "cell_type": "markdown",
      "metadata": {
        "id": "view-in-github",
        "colab_type": "text"
      },
      "source": [
        "<a href=\"https://colab.research.google.com/github/dkjshk/Question_Answering_according_to_Dialogue/blob/main/Question_Answering_based_on_Audio_Demo.ipynb\" target=\"_parent\"><img src=\"https://colab.research.google.com/assets/colab-badge.svg\" alt=\"Open In Colab\"/></a>"
      ]
    },
    {
      "cell_type": "code",
      "source": [
        "!pip install gradio --quiet\n",
        "!pip install openai --quiet"
      ],
      "metadata": {
        "id": "AxbvRjLbnEi_"
      },
      "execution_count": null,
      "outputs": []
    },
    {
      "cell_type": "code",
      "execution_count": null,
      "metadata": {
        "id": "YXrDY9xudmUk"
      },
      "outputs": [],
      "source": [
        "import gradio as gr\n",
        "import openai\n",
        "openai.api_key =\"your_api_key\"\n",
        "\n",
        "\n",
        "def transcribe_dialogue(audio,seconds):\n",
        "    audio_file = open(audio, \"rb\")\n",
        "    transcript = openai.Audio.transcribe(\"whisper-1\", audio_file)\n",
        "    print(transcript)\n",
        "    messages = [{\"role\": \"system\", \"content\": \"I will give you a passage and some questions based on this passage. You should answer my question using the original sentence from passage.\"}]  \n",
        "    messages.append({\"role\": \"user\", \"content\": \"Passage:\"+ transcript[\"text\"]})\n",
        "\n",
        "    #save\n",
        "    f=open('transcript.txt','a')                                                                                                                                       \n",
        "    f.write(transcript[\"text\"]+'\\n')\n",
        "    f.close()\n",
        "\n",
        "    return messages\n",
        "\n",
        "\n",
        "def chatgpt_query(question):\n",
        "  global messages\n",
        "  '''\n",
        "  if len(messages)==2:\n",
        "    messages[-1].content +=\"\\nQuestion: \"+question\n",
        "  else:\n",
        "    messages.append({\"role\": \"user\", \"content\": \"Question: \"+question})\n",
        "  '''\n",
        "  messages.append({\"role\": \"user\", \"content\": \"Question: \"+question})\n",
        "  response = openai.ChatCompletion.create(model=\"gpt-3.5-turbo\", messages=messages,temperature=0.2)\n",
        "  messages.append(response.choices[0].message)\n",
        "  display = \"\"\n",
        "  for message in messages[2:]:\n",
        "      if message['role'] != 'system':\n",
        "          display += message['role'] + \": \" + message['content'] + \"\\n\\n\"\n",
        "  return display\n"
      ]
    },
    {
      "cell_type": "code",
      "source": [
        "audio_path=\"audio_file_path\"\n",
        "messages=transcribe_dialogue(audio_path,0)"
      ],
      "metadata": {
        "colab": {
          "base_uri": "https://localhost:8080/"
        },
        "id": "59-PP_TDw5zp",
        "outputId": "0bc299b9-2163-40fe-c7ea-3751d0d868de"
      },
      "execution_count": null,
      "outputs": [
        {
          "output_type": "stream",
          "name": "stdout",
          "text": [
            "{\n",
            "  \"text\": \"Exercise 3.4. In part 2 of the talk, the lecturer first talks about some of the characteristics of lectures in China and then compares these with lectures in the UK. Listen and make notes on the main points he makes. Part 2. Okay, so what did I find out? I think the first thing to say is that my impression is that in China, the lecturer delivers a lot of the content of the course, or the lecturer delivers a lot of the content of the course. And this seems to be especially true at undergraduate level. And just to reinforce this, the students I talked to were postgraduate students. In other words, they had done undergraduate studies in China. I'm not sure about postgraduate studies in China, but what they said about undergraduate courses was that a lot of the course content came through the lectures. In other words, the students go to the lectures, they make notes in the lectures, and at the end of the term or at the end of the year, if they have a test or examination, in many cases, they simply give back to the lecturer what the lecturer gave to them during the lectures. And that seems to be sufficient to pass the exam and pass the course. So, the lecture is the important vehicle of the course content. It carries the course content. Now, the second point they made about lectures was that in China, they don't seem to be very interactive in the sense that students sit, they listen, they make lots and lots of notes, but they don't often ask questions during the lecture or at the end of the lecture, and they don't have much discussion either during or at the end of the lecture, and that is not expected of them. So, they really, in China, lectures don't seem to be very interactive. Another point which students made to me, which I thought was interesting, was that the main points, the important points of a lecture, are often explicitly marked by the lecturer. The lecturer might say, okay, this point is very important, make a note of this, and might even write things on the blackboard, which the students would copy down verbatim. In other words, they would copy down exactly what he was writing. So, this was interesting. It seems that the students don't have to decide for themselves what is important, what is less important. The lecturer tells them. Now, obviously, that's a very general and very rough caricature of what the students told me about Chinese lectures, but how does that compare with the UK situation? Well, in the UK, I think it's fair to say that the course content is not only delivered through the lectures. If you study on a UK course, and if you only give back to the lecturer in examinations or tests or assignments or essays, if you only give back what he or she says during the lecture, then I don't think you're going to pass the exam, the course. I think what lecturers are doing in the UK is something different. I think either they're giving an overview of the main ideas connected with the subject, or they're giving some general background to the subject, and then it's the student's responsibility to go away and to do lots of reading and to really fill in the details and to fully understand the theories, the ideas the lecturer is talking about. And that really brings me to the point of reading, because what I understood from my Chinese students was that in China, certainly at undergraduate level, they had one course book for each course. And just to emphasise that, they seemed to have one course book, and there was a very close correspondence between what the lecturer was saying and what was in the course book. In other words, if the students wanted to, they could go away at the end of the lecture and read the course book, and it would essentially say what the lecturer himself had said. So there was that kind of reinforcement. In the UK, it's very different. There's not one course book for one course. You can't just go away and read one book and find the entire content of the lectures there. You will have to read a lot of books and a lot of articles to fill in what the lecturer has given you. So in the UK, reading and reading really widely is an essential part of what students do after lectures. In China, it seems that there's a lot less reading, and the reading is mainly concentrated on this one course book. That's one thing about the UK. The other thing about the UK, the UK lecture, is that lecturers here do expect students to interact, to ask questions, to raise points of view, to make comments, to enter into discussion. Now, obviously, how much discussion there is, how much interaction there is, depends very much on how many students there are in the lecture. Here at Reading, in some cases, we may have 20 students in a lecture, and in other courses, you may have 200 students in a lecture. And obviously, there's less discussion if there are more students. There's less time for questions. But interactiveness in general is very important in the UK. Well, those are just some of my impressions of the differences between lectures in China and the UK. But I would really be very interested now in hearing your opinions, whether you think what I've talked about is true from your experience or not.\"\n",
            "}\n"
          ]
        }
      ]
    },
    {
      "cell_type": "code",
      "source": [
        "question_box=gr.Textbox(label=\"Question\",info=\"multiple question\")\n",
        "#input_audio_box=gr.Audio(source=\"upload\", type=\"filepath\")\n",
        "#input_audio_box=gr.File(file_types='audio',)\n",
        "\n",
        "out=gr.Textbox(label=\"Answer\",max_lines=80)\n",
        "ui = gr.Interface(fn=chatgpt_query, inputs=question_box, outputs=out).launch()"
      ],
      "metadata": {
        "colab": {
          "base_uri": "https://localhost:8080/",
          "height": 616
        },
        "id": "iVlFLsgioCuP",
        "outputId": "f03b23af-5a24-4a12-daf3-296ba28190c4"
      },
      "execution_count": null,
      "outputs": [
        {
          "output_type": "stream",
          "name": "stdout",
          "text": [
            "Colab notebook detected. To show errors in colab notebook, set debug=True in launch()\n",
            "Note: opening Chrome Inspector may crash demo inside Colab notebooks.\n",
            "\n",
            "To create a public link, set `share=True` in `launch()`.\n"
          ]
        },
        {
          "output_type": "display_data",
          "data": {
            "text/plain": [
              "<IPython.core.display.Javascript object>"
            ],
            "application/javascript": [
              "(async (port, path, width, height, cache, element) => {\n",
              "                        if (!google.colab.kernel.accessAllowed && !cache) {\n",
              "                            return;\n",
              "                        }\n",
              "                        element.appendChild(document.createTextNode(''));\n",
              "                        const url = await google.colab.kernel.proxyPort(port, {cache});\n",
              "\n",
              "                        const external_link = document.createElement('div');\n",
              "                        external_link.innerHTML = `\n",
              "                            <div style=\"font-family: monospace; margin-bottom: 0.5rem\">\n",
              "                                Running on <a href=${new URL(path, url).toString()} target=\"_blank\">\n",
              "                                    https://localhost:${port}${path}\n",
              "                                </a>\n",
              "                            </div>\n",
              "                        `;\n",
              "                        element.appendChild(external_link);\n",
              "\n",
              "                        const iframe = document.createElement('iframe');\n",
              "                        iframe.src = new URL(path, url).toString();\n",
              "                        iframe.height = height;\n",
              "                        iframe.allow = \"autoplay; camera; microphone; clipboard-read; clipboard-write;\"\n",
              "                        iframe.width = width;\n",
              "                        iframe.style.border = 0;\n",
              "                        element.appendChild(iframe);\n",
              "                    })(7864, \"/\", \"100%\", 500, false, window.element)"
            ]
          },
          "metadata": {}
        }
      ]
    }
  ]
}